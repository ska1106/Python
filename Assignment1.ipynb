{
 "cells": [
  {
   "cell_type": "markdown",
   "metadata": {},
   "source": [
    "# Assignment 1"
   ]
  },
  {
   "cell_type": "code",
   "execution_count": 6,
   "metadata": {},
   "outputs": [
    {
     "data": {
      "text/plain": [
       "\"* is operator\\n'hello' is string value\\n-87.8 is floating number\\n- is operator\\n/ is operator\\n+ is operator\\n6 is integer value\""
      ]
     },
     "execution_count": 6,
     "metadata": {},
     "output_type": "execute_result"
    }
   ],
   "source": [
    "#1. What are the differences between operators and values in the following?\n",
    "\n",
    "\"\"\"* is operator\n",
    "'hello' is string value\n",
    "-87.8 is floating number\n",
    "- is operator\n",
    "/ is operator\n",
    "+ is operator\n",
    "6 is integer value\"\"\""
   ]
  },
  {
   "cell_type": "code",
   "execution_count": 7,
   "metadata": {},
   "outputs": [
    {
     "data": {
      "text/plain": [
       "\"Spam is a valiable used to make a declaration\\n'spam' – is a string can be used as value\""
      ]
     },
     "execution_count": 7,
     "metadata": {},
     "output_type": "execute_result"
    }
   ],
   "source": [
    "#2 What is the difference between string and variable?\n",
    "\n",
    "\"\"\"Spam is a valiable used to make a declaration\n",
    "'spam' – is a string can be used as value\"\"\""
   ]
  },
  {
   "cell_type": "code",
   "execution_count": 5,
   "metadata": {},
   "outputs": [
    {
     "data": {
      "text/plain": [
       "'Integers – Round numbers\\nString – Characters\\nFloat – Decimal numbers'"
      ]
     },
     "execution_count": 5,
     "metadata": {},
     "output_type": "execute_result"
    }
   ],
   "source": [
    "#3. Describe three different data forms.\n",
    "\n",
    "\"\"\"Integers – Round numbers\n",
    "String – Characters\n",
    "Float – Decimal numbers\"\"\"\n"
   ]
  },
  {
   "cell_type": "code",
   "execution_count": 8,
   "metadata": {},
   "outputs": [
    {
     "data": {
      "text/plain": [
       "'Combination of operator & operands makes up an expressions. Function of expressions is to represent Arithmetic, Relation, Logical and Compound expression.\\nExample:\\na = 1 b = 2\\na + b = 3 \\nhere a+b is an expression'"
      ]
     },
     "execution_count": 8,
     "metadata": {},
     "output_type": "execute_result"
    }
   ],
   "source": [
    "#4 What makes up an expression? What are the functions of all expressions?\n",
    "\"\"\"Combination of operator & operands makes up an expressions. Function of expressions is to represent Arithmetic, Relation, Logical and Compound expression.\n",
    "Example:\n",
    "a = 1 b = 2\n",
    "a + b = 3 \n",
    "here a+b is an expression\"\"\""
   ]
  },
  {
   "cell_type": "code",
   "execution_count": 9,
   "metadata": {},
   "outputs": [
    {
     "data": {
      "text/plain": [
       "'Declaration: We have declared a variable called spam. spam = 10 is a declaration.\\nexpression: Expression is combination of operands & operators to declare a value. '"
      ]
     },
     "execution_count": 9,
     "metadata": {},
     "output_type": "execute_result"
    }
   ],
   "source": [
    "#5. In this chapter, assignment statements such as spam = 10 were added. What's the difference between a declaration and an expression?\n",
    "\n",
    "\"\"\"Declaration: We have declared a variable called spam. spam = 10 is a declaration.\n",
    "expression: Expression is combination of operands & operators to declare a value. \"\"\""
   ]
  },
  {
   "cell_type": "code",
   "execution_count": 10,
   "metadata": {},
   "outputs": [
    {
     "data": {
      "text/plain": [
       "'bacon = 22\\nbacon + 1\\nAnswer = 23'"
      ]
     },
     "execution_count": 10,
     "metadata": {},
     "output_type": "execute_result"
    }
   ],
   "source": [
    "#6. After running the following code, what does the variable bacon contain?\n",
    "\n",
    "\"\"\"bacon = 22\n",
    "bacon + 1\n",
    "Answer = 23\"\"\"\n"
   ]
  },
  {
   "cell_type": "code",
   "execution_count": 11,
   "metadata": {},
   "outputs": [
    {
     "data": {
      "text/plain": [
       "\" 'spam' + 'spamspam' = \\n'spam' * 3\\nAnswer: 'spamspamspam' for both terms\""
      ]
     },
     "execution_count": 11,
     "metadata": {},
     "output_type": "execute_result"
    }
   ],
   "source": [
    "#7. What should the values of the following two terms be?\n",
    "\n",
    "\"\"\" 'spam' + 'spamspam' = \n",
    "'spam' * 3\n",
    "Answer: 'spamspamspam' for both terms\"\"\"\n"
   ]
  },
  {
   "cell_type": "code",
   "execution_count": 12,
   "metadata": {},
   "outputs": [
    {
     "data": {
      "text/plain": [
       "'Variables always should start with characters not with integers. 100 is an Integer, sp it cannot be.'"
      ]
     },
     "execution_count": 12,
     "metadata": {},
     "output_type": "execute_result"
    }
   ],
   "source": [
    "#8. Why is it that eggs is a true variable name but 100 is not?\n",
    "\n",
    "\"\"\"Variables always should start with characters not with integers. 100 is an Integer, sp it cannot be.\"\"\"\n"
   ]
  },
  {
   "cell_type": "code",
   "execution_count": 13,
   "metadata": {},
   "outputs": [
    {
     "data": {
      "text/plain": [
       "'int - To convert value to an Integer \\nfloat - To convert value into decimal \\nstr - To convert value into string'"
      ]
     },
     "execution_count": 13,
     "metadata": {},
     "output_type": "execute_result"
    }
   ],
   "source": [
    "#9. Which of the following three functions may be used to convert a value to an integer, a floating-point number, or a string?\n",
    "\n",
    "\"\"\"int - To convert value to an Integer \n",
    "float - To convert value into decimal \n",
    "str - To convert value into string\"\"\"\n"
   ]
  },
  {
   "cell_type": "code",
   "execution_count": 14,
   "metadata": {},
   "outputs": [
    {
     "data": {
      "text/plain": [
       "\" I have eaten ' + 99 + ' burritos.'\\nIn the above case, 99 is not a string hence it caused the error.\\nThe correct one should be: 'I have eaten' + ' 99 ' + 'burritos'\\nAnswer: 'I have eaten 99 burritos' \""
      ]
     },
     "execution_count": 14,
     "metadata": {},
     "output_type": "execute_result"
    }
   ],
   "source": [
    "#10. What is the error caused by this expression? What would you do about it?\n",
    "\n",
    "\"\"\" I have eaten ' + 99 + ' burritos.'\n",
    "In the above case, 99 is not a string hence it caused the error.\n",
    "The correct one should be: 'I have eaten' + ' 99 ' + 'burritos'\n",
    "Answer: 'I have eaten 99 burritos' \"\"\"\n"
   ]
  },
  {
   "cell_type": "code",
   "execution_count": null,
   "metadata": {},
   "outputs": [],
   "source": []
  }
 ],
 "metadata": {
  "kernelspec": {
   "display_name": "Python 3",
   "language": "python",
   "name": "python3"
  },
  "language_info": {
   "codemirror_mode": {
    "name": "ipython",
    "version": 3
   },
   "file_extension": ".py",
   "mimetype": "text/x-python",
   "name": "python",
   "nbconvert_exporter": "python",
   "pygments_lexer": "ipython3",
   "version": "3.8.5"
  }
 },
 "nbformat": 4,
 "nbformat_minor": 4
}
