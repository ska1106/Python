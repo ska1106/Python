{
 "cells": [
  {
   "cell_type": "markdown",
   "metadata": {},
   "source": [
    "# 1. What are the Boolean data type's two values? How do you go about writing them?"
   ]
  },
  {
   "cell_type": "markdown",
   "metadata": {},
   "source": [
    "True(1) & False(0)\n",
    "\n",
    "type(True)\n",
    "\n",
    "type (False)\n",
    "\n",
    "T & F should be in caps."
   ]
  },
  {
   "cell_type": "markdown",
   "metadata": {},
   "source": [
    "# 2. What are the three different types of Boolean operators?"
   ]
  },
  {
   "cell_type": "markdown",
   "metadata": {},
   "source": [
    "and\n",
    "\n",
    "or\n",
    "\n",
    "not"
   ]
  },
  {
   "cell_type": "markdown",
   "metadata": {},
   "source": [
    "# 3. Make a list of each Boolean operator's truth tables (i.e. every possible combination of Boolean values for the operator and what it evaluate )."
   ]
  },
  {
   "cell_type": "markdown",
   "metadata": {},
   "source": [
    "AND:\n",
    "\n",
    "True\tand\tTrue\tTrue\n",
    "\n",
    "True\tand\tFalse\tFalse\n",
    "\n",
    "False\tand\tTrue\tFalse\n",
    "\n",
    "False\tand\tFalse\tFalse\n",
    "\n",
    "\n",
    "OR\n",
    "\n",
    "True\tor\tTrue\tTrue\n",
    "\n",
    "True\tor\tFalse\tTrue\n",
    "\n",
    "False\tor\tTrue\tTrue\n",
    "\n",
    "False\tor\tFalse\tFalse\n",
    "\n",
    "\n",
    "NOT\n",
    "\n",
    "True\tFalse --> False\n",
    "\n",
    "True\tFalse --> False\n",
    "\n",
    "False\tTrue --> True\n",
    "\n",
    "False\tTrue --> True"
   ]
  },
  {
   "cell_type": "markdown",
   "metadata": {},
   "source": [
    "# 4. What are the values of the following expressions?\n",
    "\n",
    "(5 > 4) and (3 == 5)\n",
    "not (5 > 4)\n",
    "(5 > 4) or (3 == 5)\n",
    "not ((5 > 4) or (3 == 5))\n",
    "(True and True) and (True == False)\n",
    "(not False) or (not True)"
   ]
  },
  {
   "cell_type": "markdown",
   "metadata": {},
   "source": [
    "(5 > 4) and (3 == 5) is False\n",
    "\n",
    "not (5 > 4) is False\n",
    "\n",
    "(5 > 4) or (3 == 5) is True\n",
    "\n",
    "not ((5 > 4) or (3 == 5)) is False\n",
    "\n",
    "(True and True) and (True == False) is False\n",
    "\n",
    "(not False) or (not True) is True"
   ]
  },
  {
   "cell_type": "markdown",
   "metadata": {},
   "source": [
    "# 5. What are the six different types of reference operators?"
   ]
  },
  {
   "cell_type": "markdown",
   "metadata": {},
   "source": [
    "Assignment Operators\n",
    "\n",
    "Arithmetic Operators\n",
    "\n",
    "Comparison Operators\n",
    "\n",
    "Bitwise Operators\n",
    "\n",
    "Logical Operators\n",
    "\n",
    "Precedence Operator"
   ]
  },
  {
   "cell_type": "markdown",
   "metadata": {},
   "source": [
    "# 6. How do you tell the difference between the equal to and assignment operators?"
   ]
  },
  {
   "cell_type": "markdown",
   "metadata": {},
   "source": [
    "equal to is denoted as \"==\" & assignment operator is \"=\""
   ]
  },
  {
   "cell_type": "markdown",
   "metadata": {},
   "source": [
    "# 7. Describe a condition and when you would use one."
   ]
  },
  {
   "cell_type": "markdown",
   "metadata": {},
   "source": [
    "\"=\" will be used to declare variables. e.g. a=4 & b=5\n",
    "\n",
    "\"==\" will be used while comparing a & b to derive any logical expression. e.g. if a==b:\n",
    "                                                                                  pass"
   ]
  },
  {
   "cell_type": "markdown",
   "metadata": {},
   "source": [
    "# 8. Recognize the following three blocks in this code:\n",
    "\n",
    "spam = 0\n",
    "if spam == 10:\n",
    "    print('eggs')\n",
    "    if spam > 5:\n",
    "        print('bacon')\n",
    "    else:\n",
    "        print('ham')\n",
    "    print('spam')\n",
    "print('spam')"
   ]
  },
  {
   "cell_type": "markdown",
   "metadata": {},
   "source": [
    "spam = 0\n",
    "\n",
    "#Block-1\n",
    "\n",
    "if spam == 10:\n",
    "    \n",
    "    print('eggs')\n",
    "    \n",
    "#Block-2\n",
    "\n",
    "    \n",
    "    if spam > 5:\n",
    "       \n",
    "       print('bacon')\n",
    "    \n",
    "#Block-3\n",
    "    \n",
    "    else:\n",
    "        \n",
    "        print('ham')\n",
    "    \n",
    "    print('spam')\n",
    "\n",
    "print('spam')\n"
   ]
  },
  {
   "cell_type": "markdown",
   "metadata": {},
   "source": [
    "# 9. Create a programme that prints. If 1 is stored in spam, prints Hello; if 2 is stored in spam, prints Howdy; and if 3 is stored in spam, prints Salutations! if there's something else in spam."
   ]
  },
  {
   "cell_type": "markdown",
   "metadata": {},
   "source": [
    "spam = int(input(\"enter an integer\"))\n",
    "\n",
    "if spam==1:\n",
    "\n",
    "    print(\"Hello\")\n",
    "    \n",
    "elif spam==2:\n",
    "\n",
    "    print(\"Howdy\")\n",
    "    \n",
    "elif spam==3:\n",
    "\n",
    "    print(\"Salutations!\")\n",
    "    \n",
    "else:\n",
    "\n",
    "    print(\"something else in spam\")"
   ]
  },
  {
   "cell_type": "markdown",
   "metadata": {},
   "source": [
    "# 10.If your programme is stuck in an endless loop, what keys can you press?"
   ]
  },
  {
   "cell_type": "markdown",
   "metadata": {},
   "source": [
    "Control + C"
   ]
  },
  {
   "cell_type": "markdown",
   "metadata": {},
   "source": [
    "# 11. How can you tell the difference between break and continue?"
   ]
  },
  {
   "cell_type": "markdown",
   "metadata": {},
   "source": [
    "The main difference between break and continue statement is that when break keyword is encountered, it will exit the loop. In case of continue keyword, the current iteration that is running will be stopped, and it will proceed with the next iteration."
   ]
  },
  {
   "cell_type": "markdown",
   "metadata": {},
   "source": [
    "# 12. In a for loop, what is the difference between range(10), range(0, 10), and range(0, 10, 1)?"
   ]
  },
  {
   "cell_type": "markdown",
   "metadata": {},
   "source": [
    "No difference. The output for all the above ranges will be (0, 10)"
   ]
  },
  {
   "cell_type": "markdown",
   "metadata": {},
   "source": [
    "# 13. Using a for loop, write a short programme that prints the numbers 1 to 10 Then, using a while loop, create an identical programme that prints the numbers 1 to 10."
   ]
  },
  {
   "cell_type": "markdown",
   "metadata": {},
   "source": [
    "#FOR LOOP\n",
    "\n",
    "n=range(0,10)\n",
    "\n",
    "for i in n:\n",
    "\n",
    "    print (i+1)\n",
    "    \n",
    "#WHILE LOOP\n",
    "\n",
    "n=10\n",
    "\n",
    "i=1\n",
    "\n",
    "while i<=n:\n",
    "\n",
    "    print(i)\n",
    "    \n",
    "    i= i+1\n",
    "\n",
    "\n"
   ]
  },
  {
   "cell_type": "markdown",
   "metadata": {},
   "source": [
    "# 14. If you had a bacon() function within a spam module, how  would you call it after importing spam?"
   ]
  },
  {
   "cell_type": "markdown",
   "metadata": {},
   "source": [
    " spam.bacon()"
   ]
  },
  {
   "cell_type": "code",
   "execution_count": null,
   "metadata": {},
   "outputs": [],
   "source": []
  }
 ],
 "metadata": {
  "kernelspec": {
   "display_name": "Python 3",
   "language": "python",
   "name": "python3"
  },
  "language_info": {
   "codemirror_mode": {
    "name": "ipython",
    "version": 3
   },
   "file_extension": ".py",
   "mimetype": "text/x-python",
   "name": "python",
   "nbconvert_exporter": "python",
   "pygments_lexer": "ipython3",
   "version": "3.8.5"
  }
 },
 "nbformat": 4,
 "nbformat_minor": 4
}
